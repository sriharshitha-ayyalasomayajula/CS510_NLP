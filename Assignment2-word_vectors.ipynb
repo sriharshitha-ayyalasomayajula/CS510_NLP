{
 "cells": [
  {
   "cell_type": "markdown",
   "metadata": {
    "id": "4wwniVGOEa4o"
   },
   "source": [
    "# CS410/510 HW2: Exploring Word Vectors (10 points)\n",
    " \n",
    "\n",
    "Please read the README.txt in the same directory as this notebook for important setup information, especially if you are running this Jupyter notebook on your local machine. \n",
    "\n",
    "\n",
    "There's also an excellent resource on Python and Numpy [tutorial](https://cs231n.github.io/python-numpy-tutorial/) that might be helpful.\n",
    "\n",
    "\n",
    "Please make sure to save the notebook as you go along. Submission Instructions are located at the bottom of the notebook.\n",
    "\n",
    "\n",
    "Acknowledgements: This homework has been modeled after Stanford's CS224n."
   ]
  },
  {
   "cell_type": "code",
   "execution_count": 1,
   "metadata": {
    "id": "qyfbNELlEa4u"
   },
   "outputs": [
    {
     "name": "stderr",
     "output_type": "stream",
     "text": [
      "/Users/sriharshithaayyalasomayajula/opt/anaconda3/envs/nlp_env/lib/python3.9/site-packages/scipy/__init__.py:146: UserWarning: A NumPy version >=1.16.5 and <1.23.0 is required for this version of SciPy (detected version 1.23.3\n",
      "  warnings.warn(f\"A NumPy version >={np_minversion} and <{np_maxversion}\"\n"
     ]
    }
   ],
   "source": [
    "# All Import Statements Defined Here\n",
    "# Note: Do not add to this list.\n",
    "# ----------------\n",
    "\n",
    "import sys\n",
    "assert sys.version_info[0]==3\n",
    "assert sys.version_info[1] >= 5\n",
    "\n",
    "from gensim.models import KeyedVectors\n",
    "from gensim.test.utils import datapath\n",
    "import pprint\n",
    "import matplotlib.pyplot as plt\n",
    "plt.rcParams['figure.figsize'] = [10, 5]\n",
    "import nltk\n",
    "import numpy as np\n",
    "import random\n",
    "import scipy as sp\n",
    "from sklearn.decomposition import TruncatedSVD\n",
    "from sklearn.decomposition import PCA\n",
    "\n",
    "np.random.seed(0)\n",
    "random.seed(0)\n",
    "# ----------------"
   ]
  },
  {
   "cell_type": "markdown",
   "metadata": {
    "id": "K9MOJUOAEa4y"
   },
   "source": [
    "## Word Vectors\n",
    "\n",
    "Word Vectors are often used as a fundamental component for many downstream NLP tasks, e.g., text classification, question answering, text generation, translation, etc., so it is important to build some intuitions as to their strengths and weaknesses.\n",
    "\n",
    "The terms \"word vectors\" and \"word embeddings\" are often used interchangeably. The term \"embedding\" refers to the fact that we are encoding aspects of a word's meaning in a lower dimensional space. As [Wikipedia](https://en.wikipedia.org/wiki/Word_embedding) states, \"*conceptually it involves a mathematical embedding from a space with one dimension per word to a continuous vector space with a much lower dimension*\".\n",
    "\n",
    "\n",
    "Most word vector models start from the following idea: *You shall know a word by the company it keeps ([Firth, J. R. 1957:11](https://en.wikipedia.org/wiki/John_Rupert_Firth))*\n",
    "\n"
   ]
  },
  {
   "cell_type": "markdown",
   "metadata": {
    "id": "fmGIml7hEa45"
   },
   "source": [
    "## Loading word vectors\n",
    "\n",
    "Here, we shall explore the embeddings produced by word2vec and GloVe. \n",
    "\n",
    "First, we will explore word2vec. Later, you will replace word2vec with GloVe vectors. More information on pretrained models is here: https://radimrehurek.com/gensim/models/word2vec.html\n",
    "\n",
    "Run the following cells to load the word2vec vectors into memory. **Note**: If this is your first time to run these cells, i.e. download the embedding model, it will take a couple minutes to run. If you've run these cells before, rerunning them will load the model without redownloading it, which will take about 1 to 2 minutes."
   ]
  },
  {
   "cell_type": "code",
   "execution_count": 2,
   "metadata": {
    "id": "DLja5GKrEa46"
   },
   "outputs": [],
   "source": [
    "def load_embedding_model():\n",
    "    \"\"\" Load word2vec vectors\n",
    "        Return:\n",
    "            wv_from_bin: All embeddings, each lengh 300\n",
    "    \"\"\"\n",
    "    import gensim.downloader as api\n",
    "    wv_from_bin = api.load(\"word2vec-google-news-300\") #this downloads the 300-dimensional word2vec vectors trained on Google News corpus, more here: https://radimrehurek.com/gensim/models/word2vec.html\n",
    "    #wv_from_bin = api.load(\"glove-twitter-200\") #this shoudl be uncommented to answer Q4 and run all the cells again. While doing so please comment the wv_from_bin of word2vec-google-news-300.\n",
    "    print(\"Loaded vocab size %i\" % len(wv_from_bin.key_to_index.keys()))\n",
    "    return wv_from_bin"
   ]
  },
  {
   "cell_type": "code",
   "execution_count": 3,
   "metadata": {
    "id": "lQwGrMFLEa46"
   },
   "outputs": [
    {
     "name": "stdout",
     "output_type": "stream",
     "text": [
      "Loaded vocab size 3000000\n"
     ]
    }
   ],
   "source": [
    "# -----------------------------------\n",
    "# Run Cell to Load Word Vectors\n",
    "# Note: This will take a couple of minutes\n",
    "# -----------------------------------\n",
    "wv_from_bin = load_embedding_model()"
   ]
  },
  {
   "cell_type": "markdown",
   "metadata": {
    "id": "3TrnS_EYEa46"
   },
   "source": [
    "#### Note: If you are receiving a \"reset by peer\" error, rerun the cell to restart the download. "
   ]
  },
  {
   "cell_type": "markdown",
   "metadata": {
    "id": "wyBycTNdEa47"
   },
   "source": [
    "### Reducing dimensionality of Word Embeddings\n",
    "Let's visualize the word embeddings. In order to avoid running out of memory, we will work with a sample of 10000 word vectors instead. Run the following cells to:\n",
    "\n",
    "1. Put 10000 word vectors into a matrix M\n",
    "2. Run `reduce_to_k_dim` (see Q1) to reduce the vectors from 300-dimensional to 2-dimensional."
   ]
  },
  {
   "cell_type": "code",
   "execution_count": 4,
   "metadata": {
    "id": "ggS8BZZkEa47"
   },
   "outputs": [],
   "source": [
    "def get_matrix_of_vectors(wv_from_bin, required_words=['portland', 'pacific', 'forest', 'ocean', 'city', 'food', 'green', 'weird', 'cool', 'oregon']):\n",
    "    \"\"\" Put the word2vec vectors into a matrix M.\n",
    "        Param:\n",
    "            wv_from_bin: KeyedVectors object; the 3000000 word2vec vectors loaded from file\n",
    "        Return:\n",
    "            M: numpy matrix shape (num words, 300) containing the vectors\n",
    "            word2ind: dictionary mapping each word to its row number in M\n",
    "    \"\"\"\n",
    "    import random\n",
    "    words = list(wv_from_bin.key_to_index.keys())\n",
    "    #words = list(wv_from_bin.vocab.keys())\n",
    "    print(\"Shuffling words ...\")\n",
    "    random.seed(224)\n",
    "    random.shuffle(words)\n",
    "    words = words[:10000]\n",
    "    print(\"Putting %i words into word2ind and matrix M...\" % len(words))\n",
    "    word2ind = {}\n",
    "    M = []\n",
    "    curInd = 0\n",
    "    for w in words:\n",
    "        try:\n",
    "            M.append(wv_from_bin.get_vector(w))\n",
    "           #M.append(wv_from_bin.word_vec(w))\n",
    "            word2ind[w] = curInd\n",
    "            curInd += 1\n",
    "        except KeyError:\n",
    "            continue\n",
    "    for w in required_words:\n",
    "        if w in words:\n",
    "            continue\n",
    "        try:\n",
    "            M.append(wv_from_bin.get_vector(w))\n",
    "            #M.append(wv_from_bin.word_vec(w))\n",
    "            word2ind[w] = curInd\n",
    "            curInd += 1\n",
    "        except KeyError:\n",
    "            continue\n",
    "    M = np.stack(M)\n",
    "    print(\"Done.\")\n",
    "    return M, word2ind"
   ]
  },
  {
   "cell_type": "markdown",
   "metadata": {
    "id": "nCRQtJrFEa42"
   },
   "source": [
    "### **Question 1**: Implement `reduce_to_k_dim` [code] (0.5 point)\n",
    "\n",
    "Construct a method that performs dimensionality reduction on the matrix to produce k-dimensional embeddings. Use SVD to take the top k components and produce a new matrix of k-dimensional embeddings. \n",
    "\n",
    "**Note:** All of numpy, scipy, and scikit-learn (`sklearn`) provide *some* implementation of SVD, but only scipy and sklearn provide an implementation of Truncated SVD, and only sklearn provides an efficient randomized algorithm for calculating large-scale Truncated SVD. So please use [sklearn.decomposition.TruncatedSVD](https://scikit-learn.org/stable/modules/generated/sklearn.decomposition.TruncatedSVD.html)."
   ]
  },
  {
   "cell_type": "code",
   "execution_count": 5,
   "metadata": {
    "id": "1UCgD1tAEa43"
   },
   "outputs": [],
   "source": [
    "def reduce_to_k_dim(M, k=2):\n",
    "    \"\"\" Reduce a co-occurence count matrix of dimensionality (num_corpus_words, num_corpus_words)\n",
    "        to a matrix of dimensionality (num_corpus_words, k) using the following SVD function from Scikit-Learn:\n",
    "            - http://scikit-learn.org/stable/modules/generated/sklearn.decomposition.TruncatedSVD.html\n",
    "    \n",
    "        Params:\n",
    "            M (numpy matrix of shape (number of unique words in the corpus , number of unique words in the corpus)): co-occurence matrix of word counts\n",
    "            k (int): embedding size of each word after dimension reduction\n",
    "        Return:\n",
    "            M_reduced (numpy matrix of shape (number of corpus words, k)): matrix of k-dimensioal word embeddings.\n",
    "                    In terms of the SVD from math class, this actually returns U * S\n",
    "    \"\"\"    \n",
    "    n_iters = 10     # Use this parameter in your call to `TruncatedSVD`\n",
    "    M_reduced = None\n",
    "    print(\"Running Truncated SVD over %i words...\" % (M.shape[0]))\n",
    "    \n",
    "        # ------------------\n",
    "      # Write your implementation here.\n",
    "    svd = TruncatedSVD(n_components = 2, n_iter = 10)\n",
    "    M_reduced = svd.fit_transform(M)\n",
    "    #print(M_reduced.shape)\n",
    "\n",
    "\n",
    "        # ------------------\n",
    "\n",
    "    print(\"Done.\")\n",
    "    return M_reduced"
   ]
  },
  {
   "cell_type": "code",
   "execution_count": 6,
   "metadata": {
    "id": "34WXjr0fEa47"
   },
   "outputs": [
    {
     "name": "stdout",
     "output_type": "stream",
     "text": [
      "Shuffling words ...\n",
      "Putting 10000 words into word2ind and matrix M...\n",
      "Done.\n",
      "Running Truncated SVD over 10010 words...\n",
      "Done.\n"
     ]
    }
   ],
   "source": [
    "# -----------------------------------------------------------------\n",
    "# Run Cell to Reduce 300-Dimensional Word Embeddings to k Dimensions\n",
    "# Note: This should be quick to run\n",
    "# -----------------------------------------------------------------\n",
    "M, word2ind = get_matrix_of_vectors(wv_from_bin)\n",
    "M_reduced = reduce_to_k_dim(M, k=2)\n",
    "\n",
    "#print(M_reduced)"
   ]
  },
  {
   "cell_type": "markdown",
   "metadata": {
    "id": "Oi0NRtphEa4_"
   },
   "source": [
    "**Note: If you are receiving out of memory issues on your local machine, try closing other applications to free more memory on your device. You may want to try restarting your machine so that you can free up extra memory. Then immediately run the jupyter notebook and see if you can load the word vectors properly. Or, try using Colab."
   ]
  },
  {
   "cell_type": "markdown",
   "metadata": {
    "id": "f9cQzntDEa43"
   },
   "source": [
    "### **Question 2**: Implement `plot_embeddings` [code] (1 point)\n",
    "\n",
    "Here you will write a function to plot a set of 2D vectors in 2D space. For graphs, we will use Matplotlib (`plt`).\n",
    "\n",
    "For this example, you may find it useful to adapt [this code](http://web.archive.org/web/20190924160434/https://www.pythonmembers.club/2018/05/08/matplotlib-scatter-plot-annotate-set-text-at-label-each-point/). In the future, a good way to make a plot is to look at [the Matplotlib gallery](https://matplotlib.org/gallery/index.html), find a plot that looks somewhat like what you want, and adapt the code they give."
   ]
  },
  {
   "cell_type": "code",
   "execution_count": 7,
   "metadata": {
    "id": "-xoUkY-mEa44"
   },
   "outputs": [],
   "source": [
    "def plot_embeddings(M_reduced, word2ind, words):\n",
    "    \"\"\" Plot in a scatterplot the embeddings of the words specified in the list \"words\".\n",
    "        NOTE: do not plot all the words listed in M_reduced / word2ind.\n",
    "        Include a label next to each point.\n",
    "        \n",
    "        Params:\n",
    "            M_reduced (numpy matrix of shape (number of unique words in the corpus , 2)): matrix of 2-dimensioal word embeddings\n",
    "            word2ind (dict): dictionary that maps word to indices for matrix M\n",
    "            words (list of strings): words whose embeddings we want to visualize\n",
    "    \"\"\"\n",
    "\n",
    "    # ------------------\n",
    "    # Write your implementation here.\n",
    "    words_index = [word2ind [word] for word in words]\n",
    "    print(words_index)\n",
    "    \n",
    "    x_cords = [M_reduced[words_index][0]for words_index in words_index]\n",
    "    y_cords = [M_reduced[words_index][1]for words_index in words_index]\n",
    "    \n",
    "    for i, word in enumerate(words):\n",
    "        x = x_cords[i]\n",
    "        y = y_cords[i]\n",
    "        plt.scatter(x ,y, marker ='x', color = 'blue')\n",
    "        plt.text(x + 0.0003, y + 0.0003, word, fontsize = 11)\n",
    "    plt.show()\n",
    "   # ------------------"
   ]
  },
  {
   "cell_type": "markdown",
   "metadata": {
    "id": "mn5hLXNEEa4_"
   },
   "source": [
    "### **Question 3**: word2vec Plot Analysis [written] (0.5 point)\n",
    "\n",
    "Run the cell below to plot the 2D word2vec embeddings for `['portland', 'pacific', 'forest', 'ocean', 'city', 'food', 'green', 'weird', 'cool', 'oregon']`.\n",
    "\n",
    "What clusters together in 2-dimensional embedding space? What doesn't cluster together that you think should have?"
   ]
  },
  {
   "cell_type": "code",
   "execution_count": 8,
   "metadata": {
    "id": "ZGmbcCvPEa4_",
    "scrolled": true
   },
   "outputs": [
    {
     "name": "stdout",
     "output_type": "stream",
     "text": [
      "[10000, 10001, 10002, 10003, 10004, 10005, 10006, 10007, 10008, 10009]\n"
     ]
    },
    {
     "data": {
      "image/png": "[encoded data removed]",
      "text/plain": [
       "<Figure size 432x288 with 1 Axes>"
      ]
     },
     "metadata": {
      "needs_background": "light"
     },
     "output_type": "display_data"
    }
   ],
   "source": [
    "words = ['portland', 'pacific', 'forest', 'ocean', 'city', 'food', 'green', 'weird', 'cool', 'oregon']\n",
    "plot_embeddings(M_reduced, word2ind, words)"
   ]
  },
  {
   "cell_type": "markdown",
   "metadata": {
    "id": "be-gXaPWEa4_"
   },
   "source": [
    "#### <font color=\"red\" size = 3>Ans 3: The closeness is represented by the distance between the words.</font>\n",
    "<font color=\"red\" size = 3 >- Portland and Oregon (c1) are clustered together because they are correlated, as is the case with the ocean, forest, and weird (c2), pacific, green(c3) and city, cool, and food(c4) are clustered together. <br> </font>\n",
    "<font color=\"red\" size = 3 >- I also think that: portland - city, green - forest,  pacific - ocean, portland - weird could also be clustered together as they have correlating meanings.  </font>"
   ]
  },
  {
   "cell_type": "markdown",
   "metadata": {
    "id": "InBKs2UDbjw9"
   },
   "source": [
    "### **Question 4**: GloVe Twitter Plot Analysis [written] (1 point)\n",
    "\n",
    "\n",
    "In Section **Loading word vectors**, replace word2vec embeddings with GloVe Twitter 200-dimensional embeddings ''glove-twitter-200', and run all the cells again. \n",
    "\n",
    "And then run the cell below. What differences do you see in the GloVe embeddings as compared to word2vec embeddings?"
   ]
  },
  {
   "cell_type": "code",
   "execution_count": 9,
   "metadata": {
    "id": "uQLH4wJQbkYu"
   },
   "outputs": [
    {
     "name": "stdout",
     "output_type": "stream",
     "text": [
      "[10000, 10001, 10002, 10003, 10004, 10005, 10006, 10007, 10008, 10009]\n"
     ]
    },
    {
     "data": {
      "image/png": "[encoded data removed]",
      "text/plain": [
       "<Figure size 432x288 with 1 Axes>"
      ]
     },
     "metadata": {
      "needs_background": "light"
     },
     "output_type": "display_data"
    }
   ],
   "source": [
    "words = ['portland', 'pacific', 'forest', 'ocean', 'city', 'food', 'green', 'weird', 'cool', 'oregon']\n",
    "plot_embeddings(M_reduced, word2ind, words)"
   ]
  },
  {
   "cell_type": "markdown",
   "metadata": {
    "id": "a_aBTDXFcedw"
   },
   "source": [
    "#### <font color=\"red\" size = 3 >Ans4: Glove and Word2vec can be used to obtain vector representations of words. <br> </font>\n",
    "<font color=\"red\" size = 3 > - The gloVe is concerned with word co-occurrences throughout the entire corpus. Its embeddings are related to the chances of two words appearing together.</font><br>\n",
    "<font color=\"red\" size = 3 > -  Word2Vec uses text to train a neural network. When words appear in related contexts, the resulting embedding captures this.</font> <br>\n",
    "<font color=\"red\" size = 3 > - Portland - Oregon (c1) are clustered together in both the models. </font><br>\n",
    "<font color=\"red\" size = 3 > - Pacific - Forest are clustered together and have a smaller distance in Glove than in word2vec. </font><br>\n",
    "<font color=\"red\" size = 3 > - City - cool -  food - green are clustered together. </font><br>\n",
    "<font color=\"red\" size = 3 > - City can be clustered with oregon - portland , as is the case with forest - green , forest - ocean. All these can be clustered together as they have correlating meanings.<br> </font><br>\n",
    "<font color=\"red\" size = 3 >Therefore in here glove’s results are better than word2vec.</font>"
   ]
  },
  {
   "cell_type": "markdown",
   "metadata": {
    "id": "3qy8DRwJcz-7"
   },
   "source": [
    "### **Note: For the following sections, you may choose to continue with GloVe embeddings, or reload the word2vec vectors.**\n",
    "\n",
    "---\n",
    "\n",
    "\n"
   ]
  },
  {
   "cell_type": "markdown",
   "metadata": {
    "id": "LVgqm_qmEa5A"
   },
   "source": [
    "### Cosine Similarity\n",
    "Now that we have word vectors, we need a way to quantify the similarity between individual words, according to these vectors. One such metric is cosine-similarity. We will be using this to find words that are \"close\" and \"far\" from one another.\n",
    "\n",
    "We can think of n-dimensional vectors as points in n-dimensional space. If we take this perspective [L1](http://mathworld.wolfram.com/L1-Norm.html) and [L2](http://mathworld.wolfram.com/L2-Norm.html) Distances help quantify the amount of space \"we must travel\" to get between these two points. Another approach is to examine the angle between two vectors. From trigonometry we know that:\n",
    "\n",
    "<img src=\"inner_product.png\" width=20% style=\"float: center;\"></img>\n",
    "\n",
    "Instead of computing the actual angle, we can compute the similarity in terms of $similarity = cos(\\Theta)$. Formally the [Cosine Similarity](https://en.wikipedia.org/wiki/Cosine_similarity) $s$ between two vectors $p$ and $q$ is defined as:\n",
    "\n",
    "$$s = \\frac{p \\cdot q}{||p|| ||q||}, \\textrm{ where } s \\in [-1, 1] $$ "
   ]
  },
  {
   "cell_type": "markdown",
   "metadata": {
    "id": "K13H1DFHEa5A"
   },
   "source": [
    "### **Question 5**: Words with Multiple Meanings  [code + written] (1 point)\n",
    "Polysemes and homonyms are words that have more than one meaning (see this [wiki page](https://en.wikipedia.org/wiki/Polysemy) to learn more about the difference between polysemes and homonyms ). Find a word with *at least two different meanings* such that the top-10 most similar words (according to cosine similarity) contain related words from *both* meanings. For example, \"leaves\" has both \"go_away\" and \"a_structure_of_a_plant\" meaning in the top 10, and \"scoop\" has both \"handed_waffle_cone\" and \"lowdown\". You will probably need to try several polysemous or homonymic words before you find one. \n",
    "\n",
    "Please state the word you discover and the multiple meanings that occur in the top 10. Why do you think many of the polysemous or homonymic words you tried didn't work (i.e. the top-10 most similar words only contain **one** of the meanings of the words)?\n",
    "\n",
    "**Note**: You should use the `wv_from_bin.most_similar(word)` function to get the top 10 similar words. This function ranks all other words in the vocabulary with respect to their cosine similarity to the given word. For further assistance, please check the __[GenSim documentation](https://radimrehurek.com/gensim/models/keyedvectors.html#gensim.models.keyedvectors.FastTextKeyedVectors.most_similar)__."
   ]
  },
  {
   "cell_type": "code",
   "execution_count": 10,
   "metadata": {
    "id": "ixC2fCG6Ea5A"
   },
   "outputs": [
    {
     "name": "stdout",
     "output_type": "stream",
     "text": [
      "[('lies', 0.6923317313194275), ('lying', 0.6025736331939697), ('Lying', 0.5922048687934875), ('Terravista_complex', 0.5337909460067749), ('lay', 0.5245624780654907), ('Lie', 0.4954392611980438), ('perjure_yourself', 0.4697055518627167), ('sit', 0.46696925163269043), ('BE_TRUTHFUL_Do', 0.466054230928421), ('lurk', 0.45586878061294556)]\n",
      "--\n",
      "[('Current', 0.557456910610199), ('currrent', 0.512985348701477), ('thecurrent', 0.49619054794311523), ('curent', 0.4640691578388214), ('future', 0.462577223777771), ('existing', 0.44827768206596375), ('new', 0.44586941599845886), ('previous', 0.4399642050266266), ('normalized_FFO_guidance', 0.41918817162513733), ('prevailing', 0.4187409579753876)]\n",
      "--\n",
      "[('Count_GBBC', 0.562362551689148), ('UR_Votes', 0.534643828868866), ('Counts', 0.47460758686065674), ('count', 0.4674544036388397), ('Ricardo_Agusta', 0.4593896269798279), ('Nonfarm_Job', 0.4404394030570984), ('Transient_Workers', 0.434999942779541), ('counts', 0.41795626282691956), ('Monte_Christo', 0.4060957133769989), ('Narrowed_Down', 0.4024765193462372)]\n",
      "--\n",
      "[('Fair', 0.5540856122970581), ('Kurylowicz_trial', 0.5540702939033508), ('P###_INX_futures', 0.5350087881088257), ('equitable', 0.5298712253570557), ('Ranee_Gaynor', 0.5259596705436707), ('MATAGORDA_Trout', 0.5121117830276489), ('spokeswoman_Brienna_Schuette', 0.5081087350845337), ('fairness', 0.5022888779640198), ('reasonable', 0.5011017322540283), ('fairer', 0.49934491515159607)]\n",
      "--\n",
      "[('bank', 0.6698698401451111), ('Savings_Bank', 0.5976976156234741), ('http://investor.bankofamerica.com', 0.5754179358482361), ('Bankâ_€_™', 0.5749346613883972), ('Bancorporation', 0.567009687423706), ('Bankof', 0.5657059550285339), ('Bankcorp', 0.5634135007858276), ('Ceylon_BoC', 0.5583107471466064), ('Ozarks_NASDAQ_OZRK', 0.5536198019981384), ('Bancshares', 0.5535010099411011)]\n"
     ]
    }
   ],
   "source": [
    "    # ------------------\n",
    "    # Write your implementation here.\n",
    "print(wv_from_bin.most_similar([\"lie\"]))\n",
    "print('--')\n",
    "print(wv_from_bin.most_similar([\"current\"]))\n",
    "print('--')\n",
    "print(wv_from_bin.most_similar([\"Count\"])) #use this for word2vec google news\n",
    "#print(wv_from_bin.most_similar([\"count\"]))#use this for glove\n",
    "print('--')\n",
    "print(wv_from_bin.most_similar([\"fair\"]))\n",
    "print('--')\n",
    "print(wv_from_bin.most_similar([\"Bank\"])) #use this for word2vec google news\n",
    "#print(wv_from_bin.most_similar([\"bank\"]))#use this for glove\n",
    "# ------------------"
   ]
  },
  {
   "cell_type": "markdown",
   "metadata": {
    "id": "60AEbKqdEa5A"
   },
   "source": [
    "#### <font color=\"red\" size = 3 >Ans5: I found that  lie - this word had had “perjure_yourself” and “sit”. It has close enough words that are meant to be false and to be prone to do something. </font><br>\n",
    "<font color=\"red\" size = 3 >I did use other words but they didn’t work, because there is at least one usage of the word which was more prevalent than the others. </font> <br>\n",
    "<font color=\"red\" size = 3 >Polysemous words that I worked with: </font><br>\n",
    "<font color=\"red\" size = 3 >- Current - it means recent and also other words for electricity - The model only shows the words that mean “recent”. <font><br>\n",
    "<font color=\"red\" size = 3 >- Bank - it means financial institution and also a slope or land beside a river or lake. - The model showed words that are related to financial institutions only. </font><br>\n",
    "<font color=\"red\" size = 3 >- Fair - it means to be in accordance with the rules/standards(reasonable) and also a kind of complexion. - The model only showed words that are related to reasonable. </font>"
   ]
  },
  {
   "cell_type": "markdown",
   "metadata": {
    "id": "Mz1P4SYGEa5A"
   },
   "source": [
    "### **Question 6**: Synonyms & Antonyms  [code + written] (1 point)\n",
    "\n",
    "When considering Cosine Similarity, it's often more convenient to think of Cosine Distance, which is simply 1 - Cosine Similarity.\n",
    "\n",
    "Find three words $(w_1,w_2,w_3)$ where $w_1$ and $w_2$ are synonyms and $w_1$ and $w_3$ are antonyms, but Cosine Distance $(w_1,w_3) <$ Cosine Distance $(w_1,w_2)$. \n",
    "\n",
    "As an example, $w_1$=\"happy\" is closer to $w_3$=\"sad\" than to $w_2$=\"excited\". Please find a different example that satisfies the above. Once you have found your example, please give a possible explanation for why this counter-intuitive result may have happened.\n",
    "\n",
    "You should use the the `wv_from_bin.distance(w1, w2)` function here in order to compute the cosine distance between two words. Please see the __[GenSim documentation](https://radimrehurek.com/gensim/models/keyedvectors.html#gensim.models.keyedvectors.FastTextKeyedVectors.distance)__ for further assistance."
   ]
  },
  {
   "cell_type": "code",
   "execution_count": 11,
   "metadata": {
    "id": "FFrMO2Y0Ea5B"
   },
   "outputs": [
    {
     "name": "stdout",
     "output_type": "stream",
     "text": [
      "Synonyms true, real have cosine distance: 0.5258725583553314\n",
      "Antonyms true, false have cosine distance : 0.6290567517280579\n"
     ]
    }
   ],
   "source": [
    "    # ------------------\n",
    "    # Write your implementation here.\n",
    "w1 = \"true\" #\"happy\"\n",
    "w2 = \"real\" #\"excited\"\n",
    "w3 = \"false\" #\"sad\"\n",
    "w1_w2_dist = wv_from_bin.distance(w1,w2)\n",
    "w1_w3_dist = wv_from_bin.distance(w1,w3)\n",
    "\n",
    "print(\"Synonyms {}, {} have cosine distance: {}\". format(w1,w2,w1_w2_dist))\n",
    "print(\"Antonyms {}, {} have cosine distance : {}\". format(w1, w3, w1_w3_dist))\n",
    "   # ------------------"
   ]
  },
  {
   "cell_type": "markdown",
   "metadata": {
    "id": "Dt6_Rsd9Ea5B"
   },
   "source": [
    "#### <font color=\"red\" size = 3 >Ans6: Synonyms & Antonyms</font><br>\n",
    "<font color =\"red\" size = 3 >- For word2ve : The cosine distance between true and really is greater than the cosine distance between true and false. These values are contradictory. This is because true and false are rated by their similarity on various parameters, so they have lower cosine distance compared to true and really.</font> <br>\n",
    "<font color =\"red\" size = 3 >- For Glove : The cosinde distance betwweb true and false is greater than cosine distance of true and really. "
   ]
  },
  {
   "cell_type": "markdown",
   "metadata": {
    "id": "tAC9BXocEa5B"
   },
   "source": [
    "### **Question 7**: Analogies with Word Vectors [written] (1 point)\n",
    "Word vectors have been shown to *sometimes* exhibit the ability to solve analogies. \n",
    "\n",
    "As an example, for the analogy \"man : king :: woman : x\" (read: man is to king as woman is to x), what is x?\n",
    "\n",
    "In the cell below, we show you how to use word vectors to find x using the `most_similar` function from the __[GenSim documentation](https://radimrehurek.com/gensim/models/keyedvectors.html#gensim.models.keyedvectors.KeyedVectors.most_similar)__. The function finds words that are most similar to the words in the `positive` list and most dissimilar from the words in the `negative` list (while omitting the input words, which are often the most similar; see [this paper](https://www.aclweb.org/anthology/N18-2039.pdf)). The answer to the analogy will have the highest cosine similarity (largest returned numerical value)."
   ]
  },
  {
   "cell_type": "code",
   "execution_count": 12,
   "metadata": {
    "id": "uAXr6Ob6Ea5B"
   },
   "outputs": [
    {
     "name": "stdout",
     "output_type": "stream",
     "text": [
      "[('queen', 0.7118193507194519),\n",
      " ('monarch', 0.6189674735069275),\n",
      " ('princess', 0.5902431011199951),\n",
      " ('crown_prince', 0.5499460697174072),\n",
      " ('prince', 0.5377322435379028),\n",
      " ('kings', 0.5236844420433044),\n",
      " ('Queen_Consort', 0.5235945582389832),\n",
      " ('queens', 0.5181134939193726),\n",
      " ('sultan', 0.5098593235015869),\n",
      " ('monarchy', 0.5087411403656006)]\n"
     ]
    }
   ],
   "source": [
    "# Run this cell to answer the analogy -- man : king :: woman : x\n",
    "pprint.pprint(wv_from_bin.most_similar(positive=['woman', 'king'], negative=['man']))"
   ]
  },
  {
   "cell_type": "markdown",
   "metadata": {
    "id": "2AaXChc8Ea5B"
   },
   "source": [
    "Let $m$, $k$, $w$, and $x$ denote the word vectors for `man`, `king`, `woman`, and the answer, respectively. Using **only** vectors $m$, $k$, $w$, and the vector arithmetic operators $+$ and $-$ in your answer, what is the expression in which we are maximizing cosine similarity with $x$?\n",
    "\n",
    "Hint: Recall that word vectors are simply multi-dimensional vectors that represent a word. It might help to draw out a 2D example using arbitrary locations of each vector. Where would `man` and `woman` lie in the coordinate plane relative to `king` and the answer?"
   ]
  },
  {
   "cell_type": "markdown",
   "metadata": {
    "id": "96xSgT0xEa5B"
   },
   "source": [
    "#### <font color=\"red\" size = 3 > Ans7: man : king :: woman : x = queen</font> <br>\n",
    "<font color=\"red\" size = 3 > The  linear word analogies is : king→+(woman→−man→)≈queen </font><br>\n",
    "<font color=\"red\" size = 3 >This forms a parallelogram structure in the vector space:king - man + woman is close. </font> <br>\n",
    "<font color=\"red\" size = 3 >To queen(k - m + w = q) a:a::b:b => parallelogram method is: bˆ = argmax distance (x,a-a+b) </font><br>\n",
    "<font color=\"red\" size = 3 >This works only for frequent words, small distances and certain relations, but not for others. </font>"
   ]
  },
  {
   "cell_type": "markdown",
   "metadata": {
    "id": "XWzOOni_Ea5C"
   },
   "source": [
    "### **Question 8**: Finding Analogies [code + written]  (0.5 point)\n",
    "Find an example of analogy that holds according to these vectors (i.e. the intended word is ranked top). In your solution please state the full analogy in the form x:y :: a:b. If you believe the analogy is complicated, explain why the analogy holds in one or two sentences.\n",
    "\n",
    "**Note**: You may have to try many analogies to find one that works!"
   ]
  },
  {
   "cell_type": "code",
   "execution_count": 13,
   "metadata": {
    "id": "PsRr1OwNEa5C"
   },
   "outputs": [
    {
     "name": "stdout",
     "output_type": "stream",
     "text": [
      "[('daughter', 0.7326059341430664),\n",
      " ('son', 0.7218970656394958),\n",
      " ('sister', 0.6979468464851379),\n",
      " ('siblings', 0.6873555183410645),\n",
      " ('eldest_daughter', 0.6869657039642334),\n",
      " ('aunt', 0.6830092072486877),\n",
      " ('husband', 0.6639494895935059),\n",
      " ('maternal_grandmother', 0.6600563526153564),\n",
      " ('daughters', 0.6589838862419128),\n",
      " ('niece', 0.6552082896232605)]\n"
     ]
    }
   ],
   "source": [
    "    # ------------------\n",
    "    # Write your implementation here.\n",
    "pprint.pprint(wv_from_bin.most_similar(positive =['father','mother'], negative = ['man']))\n",
    "    # ------------------"
   ]
  },
  {
   "cell_type": "markdown",
   "metadata": {
    "id": "O3GXxOLVEa5C"
   },
   "source": [
    "#### <font color=\"red\" size = 3 >Ans8: Analogy - </font><br> \n",
    "<font color=\"red\" size = 3 > man:father::woman:mother </font><br>\n",
    "<font color=\"red\" size = 3 > father - man + woman = mother </font>"
   ]
  },
  {
   "cell_type": "markdown",
   "metadata": {
    "id": "8fXaqGFaEa5C"
   },
   "source": [
    "### **Question 9**: Incorrect Analogy [code + written] (0.5 point)\n",
    "Find an example of analogy that does *not* hold according to these vectors. In your solution, state the intended analogy in the form x:y :: a:b, and state the (incorrect) value of b according to the word vectors."
   ]
  },
  {
   "cell_type": "code",
   "execution_count": 14,
   "metadata": {
    "id": "wA2zwxtTEa5C"
   },
   "outputs": [
    {
     "name": "stdout",
     "output_type": "stream",
     "text": [
      "[('apples', 0.5933475494384766),\n",
      " ('fruit', 0.5479434132575989),\n",
      " ('strawberry', 0.5325064063072205),\n",
      " ('berry', 0.5288125276565552),\n",
      " ('pear', 0.5158534049987793),\n",
      " ('watermelon', 0.5079392194747925),\n",
      " ('berries', 0.5020602941513062),\n",
      " ('grapefruit', 0.4978800415992737),\n",
      " ('blueberry', 0.497383713722229),\n",
      " ('crumb_pie', 0.49559885263442993)]\n"
     ]
    }
   ],
   "source": [
    "    # ------------------\n",
    "    # Write your implementation here.\n",
    "pprint.pprint(wv_from_bin.most_similar(positive = ['apple','orange'], negative = ['red']))\n",
    "    # ------------------"
   ]
  },
  {
   "cell_type": "markdown",
   "metadata": {
    "id": "th9u3Mf2Ea5C"
   },
   "source": [
    "#### <font color=\"red\" size = 3 >Ans9: Incorrect Analogy</font> <br>\n",
    "<font color =\"red\" size = 3 > for apple:red::orange:orange </font><br>\n",
    "<font color =\"red\" size = 3 >The result should be orange. </font><br>\n",
    "<font color =\"red\" size = 3 >However, the answer is incorrect, possibly because the two words are the same.</font><br>\n",
    "<font color =\"red\" size = 3 >The result shows - fruits, berry, pear, watermelons etc.</font>\n"
   ]
  },
  {
   "cell_type": "markdown",
   "metadata": {
    "id": "xqCf3SHMEa5D"
   },
   "source": [
    "### **Question 10**: Guided Analysis of Bias in Word Vectors [written] (1 point)\n",
    "\n",
    "It's important to be cognizant of the biases (gender, race, sexual orientation etc.) implicit in our word embeddings. Bias can be dangerous because it can reinforce stereotypes through applications that employ these models.\n",
    "\n",
    "Run the cell below, to examine (a) which terms are most similar to \"woman\" and \"worker\" and most dissimilar to \"man\", and (b) which terms are most similar to \"man\" and \"worker\" and most dissimilar to \"woman\". Point out the difference between the list of female-associated words and the list of male-associated words, and explain how it is reflecting gender bias."
   ]
  },
  {
   "cell_type": "code",
   "execution_count": 15,
   "metadata": {
    "id": "67-UyfoEEa5D"
   },
   "outputs": [
    {
     "name": "stdout",
     "output_type": "stream",
     "text": [
      "[('workers', 0.6582455635070801),\n",
      " ('employee', 0.5805293917655945),\n",
      " ('nurse', 0.5249922275543213),\n",
      " ('receptionist', 0.5142490267753601),\n",
      " ('migrant_worker', 0.5001609325408936),\n",
      " ('Worker', 0.49792709946632385),\n",
      " ('housewife', 0.48609834909439087),\n",
      " ('registered_nurse', 0.4846191108226776),\n",
      " ('laborer', 0.48437267541885376),\n",
      " ('coworker', 0.48212409019470215)]\n",
      "\n",
      "[('workers', 0.5590359568595886),\n",
      " ('laborer', 0.5448104739189148),\n",
      " ('foreman', 0.5192232131958008),\n",
      " ('Worker', 0.51615971326828),\n",
      " ('employee', 0.5094279646873474),\n",
      " ('electrician', 0.49481216073036194),\n",
      " ('janitor', 0.48718902468681335),\n",
      " ('bricklayer', 0.4825313091278076),\n",
      " ('carpenter', 0.47499001026153564),\n",
      " ('workman', 0.4642517864704132)]\n"
     ]
    }
   ],
   "source": [
    "# Run this cell\n",
    "# Here `positive` indicates the list of words to be similar to and `negative` indicates the list of words to be\n",
    "# most dissimilar from.\n",
    "pprint.pprint(wv_from_bin.most_similar(positive=['woman', 'worker'], negative=['man']))\n",
    "print()\n",
    "pprint.pprint(wv_from_bin.most_similar(positive=['man', 'worker'], negative=['woman']))"
   ]
  },
  {
   "cell_type": "markdown",
   "metadata": {
    "id": "_3TsG0JTEa5D"
   },
   "source": [
    "#### <font color=\"red\" size = 3 >Ans10: We can see here that a lot of physical work jobs are related to man and jobs which are “taking-care-of” kind or management kind are related to woman. </font> <br>\n",
    "<font color=\"red\" size = 3 > The top 10 words similar to woman workers are - workers, employee, nurse, receptionist, migrant_worker, Worker, house_wife, registered_nurse, laborer and coworker. </font><br>\n",
    "<font color=\"red\" size = 3 >-The top 10 words similar to man workers are - workers, laborer, foreman, Worker, employee, electrician, janitor, workman, carpenter, bricklayer.</font>"
   ]
  },
  {
   "cell_type": "markdown",
   "metadata": {
    "id": "eQxVwuRxEa5D"
   },
   "source": [
    "### **Question 11**: Independent Analysis of Bias in Word Vectors [code + written]  (1 point)\n",
    "\n",
    "Use the `most_similar` function to find another case where some bias is exhibited by the vectors. Please briefly explain the example of bias that you discover."
   ]
  },
  {
   "cell_type": "code",
   "execution_count": 16,
   "metadata": {
    "id": "pHhONBaPEa5D"
   },
   "outputs": [
    {
     "name": "stdout",
     "output_type": "stream",
     "text": [
      "[('Job', 0.49606961011886597),\n",
      " ('BrokeAss_Blog_Need', 0.4681640863418579),\n",
      " ('jobs', 0.4655148386955261),\n",
      " (\"Mike'sa\", 0.44022729992866516),\n",
      " ('guy', 0.4276140034198761),\n",
      " ('daunting_Platoni', 0.41128671169281006),\n",
      " ('monster.com', 0.41067075729370117),\n",
      " ('work', 0.4065277874469757),\n",
      " ('strongside_LB', 0.395170122385025),\n",
      " ('managership', 0.394349068403244)]\n",
      "\n",
      "[('jobs', 0.573985755443573),\n",
      " ('maternity_leave', 0.4692858159542084),\n",
      " ('secretarial', 0.46720579266548157),\n",
      " ('employment', 0.46512290835380554),\n",
      " ('waitressing', 0.46291887760162354),\n",
      " ('internship', 0.4554218649864197),\n",
      " ('DEAR_CARRIE', 0.45531147718429565),\n",
      " ('BrokeAss_Blog_Need', 0.4549606740474701),\n",
      " ('Job', 0.4385932981967926),\n",
      " ('work', 0.4380896985530853)]\n",
      "\n"
     ]
    }
   ],
   "source": [
    "    # ------------------\n",
    "    # Write your implementation here.\n",
    "pprint.pprint(wv_from_bin.most_similar(positive = ['job','man'], negative = ['woman']))\n",
    "print()\n",
    "\n",
    "#man:job:woman:?\n",
    "\n",
    "pprint.pprint(wv_from_bin.most_similar(positive =['job','woman'], negative = ['man']))\n",
    "print()\n",
    "# ------------------"
   ]
  },
  {
   "cell_type": "markdown",
   "metadata": {
    "id": "i8uB_wEHEa5E"
   },
   "source": [
    "#### <font color=\"red\" size = 3 >Ans11: Here, we can see that managership jobs are mentioned for females but not for males, but the model here has shown secretarial jobs for males but not for females.</font>"
   ]
  },
  {
   "cell_type": "markdown",
   "metadata": {
    "id": "RDtHxopvEa5E"
   },
   "source": [
    "### **Question 12**: Thinking About Bias [written] (1 point)\n",
    "\n",
    "Give one explanation for how bias gets into the word vectors. What is an experiment that you could do to test for or to measure this source of bias?"
   ]
  },
  {
   "cell_type": "markdown",
   "metadata": {
    "id": "Bpzs1zRuEa5E"
   },
   "source": [
    "#### <font color=\"red\" size = 3 >Ans12: </font>\n",
    "<font color=\"red\">- There are various ways in which bias can be introduced to word vectors.. The bias can be anything from Racial bias, historical bias, gender bias to the data itself being biased.</font><br>\n",
    "<font color=\"red\">- Bias can be introduced in hirings in corporate institutions, if the algorithms use embeddings (eg: searching for programmers, Amazon) </font></br>\n",
    "<font color=\"red\">- Embeddings for competence adjectives like smart, wise, brilliant, resourceful, thoughtful, logical are usually biased towards men- even though this is decreasing slowly these days.</font></br>\n",
    "<font color=\"red\">- Historical/Cultural embeddings that are used to study cultural/historical biases. </font></br>\n",
    "<font color=\"red\">- History of occupations - for eg: teacher - The cosine similarity of embeddings for a decade(suppose 90’s)  for occupations (like teacher) to male vs female names is correlated with the actual percentage of women teachers in a decade(90’s).\n",
    "</font></br>\n",
    "<font color=\"red\">Examples- man : computer programmer :: woman : x  -> x = homemaker </font><br>\n",
    "<font color=\"red\">father : doctor :: mother : x -> x = nurse</font> <br>\n",
    "<font color=\"red\">Word embedding association tests (WEAT), Implicit Association Tests (IAT)  can be administered to test the source of bias.[Reference](https://aclanthology.org/2021.trustnlp-1.2.pdf)  </font> <br>\n"
   ]
  },
  {
   "cell_type": "markdown",
   "metadata": {
    "id": "tIjgFwuOEa5E"
   },
   "source": [
    "# <font color=\"blue\"> Submission Instructions</font>\n",
    "\n",
    "When you are satified with your results, you can submit this assignment by doing the following:\n",
    "\n",
    "1. Click the Save button at the top of the Jupyter Notebook.\n",
    "\n",
    "2. Add your name and PSU ID # at the top.\n",
    "\n",
    "3. **For Colab**: \n",
    "\n",
    "(i) Select *Edit > Clear All Outputs*.\n",
    "\n",
    "(ii) Click *Runtime > Restart and Run All*.\n",
    "\n",
    "\n",
    "(iii) Click *File > Print* and print to PDF. Name the file hw#_[odin_userid].pdf (for example Homework 1 for Kai River might be hw1_kriver.pdf)\n",
    "   \n",
    "3. **For Jupyter running on local machine**:\n",
    "\n",
    "(i) Select *Cell -> All Output -> Clear*. This will clear all the outputs from all cells (but will keep the content of all cells).\n",
    "\n",
    "(ii) Select *Cell -> Run All*. This will run all the cells in order, and will take several minutes.\n",
    "\n",
    "(iii) Once you've rerun everything, select *File -> Download as -> PDF via LaTeX*.\n",
    "\n",
    "\n",
    "4. Look at the PDF file and make sure all your solutions are there, displayed correctly.\n",
    "\n",
    "5. Also download your .ipynb.\n",
    "\n",
    "5. Submit both the PDF file and the Jupyter notebook (.ipynb) on Canvas under *Assignments* under the appropriate assignment."
   ]
  }
 ],
 "metadata": {
  "anaconda-cloud": {},
  "colab": {
   "collapsed_sections": [],
   "provenance": []
  },
  "kernelspec": {
   "display_name": "nlp",
   "language": "python",
   "name": "nlp"
  },
  "language_info": {
   "codemirror_mode": {
    "name": "ipython",
    "version": 3
   },
   "file_extension": ".py",
   "mimetype": "text/x-python",
   "name": "python",
   "nbconvert_exporter": "python",
   "pygments_lexer": "ipython3",
   "version": "3.9.13"
  }
 },
 "nbformat": 4,
 "nbformat_minor": 1
}
